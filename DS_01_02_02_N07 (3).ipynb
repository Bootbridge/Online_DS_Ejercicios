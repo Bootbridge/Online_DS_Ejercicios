{
 "cells": [
  {
   "cell_type": "markdown",
   "metadata": {
    "id": "vigJnuAMSU4x"
   },
   "source": [
    "![TheBridge_logo_RGB_color.jpg](attachment:TheBridge_logo_RGB_color.jpg)"
   ]
  },
  {
   "cell_type": "markdown",
   "metadata": {
    "id": "2xmnwM17SU4y"
   },
   "source": [
    "![ejercicios.png](attachment:ejercicios.png)"
   ]
  },
  {
   "cell_type": "markdown",
   "metadata": {
    "id": "liorA-1ZSU4y"
   },
   "source": [
    "# Ejercicios Clases y Objetos"
   ]
  },
  {
   "cell_type": "markdown",
   "metadata": {
    "id": "5xXUz5l9SU4z"
   },
   "source": [
    "## Ejercicio 1\n",
    "Somos una empresa que tiene varias tiendas de electrodomesticos. Necesitamos un programa para manejar las tiendas, ver las ventas que han tenido, cuántos empleados hay, etc... Para ello vamos a modelizar la tienda en una clase, que tendrá las siguientes características:\n",
    "* Nombre clase: \"Tienda\"\n",
    "* Atributos comunes:\n",
    "    * Tipo: \"Electrodomésticos\"\n",
    "    * Abierta: True\n",
    "* Atributos propios de cada tienda:\n",
    "    * Nombre - String\n",
    "    * Dirección - String\n",
    "    * Número de empleados - int\n",
    "    * Ventas ultimos 3 meses - Lista de 3 numeros\n",
    "* Método para calcular las ventas de todos los meses, que devuelva un numero con todas las ventas.\n",
    "* Método que calcula la media de ventas de los ultimos meses, por empleado\n",
    "* Método que devuelve en un string el nombre de la tienda, junto con su dirección.\n",
    "* Método que obtiene las ventas del último mes.\n",
    "* Método para dar una proyección de las ventas en caso de haber invertido X dinero en marketing en esa tienda. Siendo X el parámetro de entrada. Si X es menor de 1000, las ventas de los ultimos 3 meses hubiesen sido de (1.2 x ventas), si es mayor o igual de 1000, las ventas hubiesen sido de (1.5 x venta). El método reescribe el atributo de ventas en los últimos 3 meses, y además devuelve las ventas con el aumento.\n",
    "\n",
    "Se pide:\n",
    "1. Implementar la clase \"Tienda\"\n",
    "2. Crear tres tiendas con datos inventados\n",
    "3. Comprueba en al menos una de ellas, todo lo implementado en la clase tienda (sus atributos, media de ventas, ventas/empleado...)\n",
    "3. Calcular las ventas del último mes de todas las tiendas. Para ello usa el bucle `for`\n",
    "4. Imprime por pantalla los nombres de las tiendas cuya dirección lleve el string \"Avenida\"\n",
    "5. Seguro que ya has hecho este apartado... Documenta la clase :)"
   ]
  },
  {
   "cell_type": "code",
   "execution_count": 1,
   "metadata": {
    "id": "5cLQcLxfSU4z"
   },
   "outputs": [
    {
     "name": "stdout",
     "output_type": "stream",
     "text": [
      "las ventas totales de la Tienda1 ascienden a  390\n",
      "las ventas del ultimo mes de la Tienda1 son  180\n",
      "el nombre y dirección de la Tienda1 es  ('K2', 'Almagro 52')\n",
      "Las ventas por empleado de la Tienda1 ascienden a  39.0\n",
      "el beneficio esperado invirtiedo 1.000 o mas sera 585.0\n",
      "las ventas del ultimo mes son  150\n",
      "las ventas del ultimo mes son  140\n",
      "la suma de las ventas de las tres tiendas en el ultimo mes es 470\n",
      "no está en una Avenida\n",
      "Calle Almagro, 52\n",
      "esta ubicada en una Avenida\n",
      "Avenida de Castello, 22\n",
      "no está en una Avenida\n",
      "Calle Montesa, 2\n"
     ]
    }
   ],
   "source": [
    "class Tiendas:\n",
    "    Tipo_tienda = 'Electrodomésticos'\n",
    "    Abierto = True\n",
    "    def __init__(self, empleados, ventas, nombre, direccion):\n",
    "        self.empleo = int(empleados)\n",
    "        self.factura = ventas\n",
    "        self.nombre = nombre\n",
    "        self.direcc = direccion\n",
    "    def sumar(self,ventas):\n",
    "        ventas_3_meses = sum(self.factura)\n",
    "        return ventas_3_meses\n",
    "    def ventas_empleado(self,ventas,empleados):\n",
    "        por_empleado = sum(self.factura)/ self.empleo\n",
    "        return por_empleado\n",
    "        print(por_empleado)\n",
    "    def ventas_ultimo(self, ventas):\n",
    "        ultimo = self.factura[-1]\n",
    "        return ultimo\n",
    "    def nom_direc(self,nombre, direccion):\n",
    "        self.nombre = nombre\n",
    "        self.direcc = direccion\n",
    "        return (self.nombre, self.direcc)\n",
    "     \n",
    "    def fut_ben(self, inversion, ventas):\n",
    "        self.inversion = inversion\n",
    "        if self.inversion < 1000:\n",
    "            futuro = sum(self.factura) * 1.2\n",
    "            print(\"el beneficio esperado invirtiedo menos de 1.000 sera\", futuro)\n",
    "            return futuro\n",
    "        else:\n",
    "            futuro1 = sum(self.factura) * 1.5\n",
    "            print(\"el beneficio esperado invirtiedo 1.000 o mas sera\", futuro1)          \n",
    "            return futuro1\n",
    "    def sum_ult(self):\n",
    "        self.ult1 = Tienda1.ventas_ultimo([90,120,180])\n",
    "        self.ult2 = Tienda2.ventas_ultimo([80,100,150])\n",
    "        self.ult3 =  Tienda3.ventas_ultimo([70,100,140])\n",
    "        ult3 = self.ult1 + self.ult2 + self.ult3\n",
    "        return ult3\n",
    "\n",
    "    def imprime_direcc(self, direccion):\n",
    "        self.direccion = direccion\n",
    "        self.direccion2 = 'Avenida'\n",
    "        if self.direccion2 in self.direccion:\n",
    "            print('esta ubicada en una Avenida')\n",
    "            return direccion\n",
    "        else:\n",
    "            print('no está en una Avenida')\n",
    "            return direccion\n",
    "        \n",
    "        \n",
    "\n",
    "Tienda1 = Tiendas(10, [90,120,180], 'K2', 'Calle Almagro, 52')\n",
    "Tienda2 = Tiendas(8, [80,100,150], 'Elect10', 'Avenida de Castello, 22')\n",
    "Tienda3 = Tiendas(6, [70,100,140], 'Mirror', 'Calle Montesa, 2')\n",
    "print('las ventas totales de la Tienda1 ascienden a ',Tienda1.sumar([90,120,180]))\n",
    "print('las ventas del ultimo mes de la Tienda1 son ' , Tienda1.ventas_ultimo([90,120,180]))\n",
    "print('el nombre y dirección de la Tienda1 es ', Tienda1.nom_direc('K2', 'Almagro 52'))\n",
    "print('Las ventas por empleado de la Tienda1 ascienden a ' , Tienda1.ventas_empleado([90,120,180], 10))\n",
    "Tienda1.fut_ben (1500, [90,120,180])\n",
    "print('las ventas del ultimo mes son ' , Tienda2.ventas_ultimo([80,100,150]))\n",
    "print('las ventas del ultimo mes son ' , Tienda3.ventas_ultimo([70,100,140]))\n",
    "print('la suma de las ventas de las tres tiendas en el ultimo mes es', Tienda1.sum_ult())\n",
    "print(Tienda1.imprime_direcc( 'Calle Almagro, 52'))\n",
    "print(Tienda2.imprime_direcc( 'Avenida de Castello, 22'))\n",
    "print(Tienda3.imprime_direcc( 'Calle Montesa, 2'))"
   ]
  },
  {
   "cell_type": "markdown",
   "metadata": {
    "id": "WEBq7EpsSU40"
   },
   "source": [
    "## Ejercicio 2\n",
    "En este ejercicio vamos a implementar una clase *Perro* en Python. La clase tiene las siguientes características:\n",
    "* Cosas que sabemos seguro que tiene un perro\n",
    "    * Tiene 4 patas\n",
    "    * 2 orejas\n",
    "    * 2 ojos\n",
    "    * Una velocidad de 0. Por defecto, el perro está parado\n",
    "* Cuando se inicialice:\n",
    "    * El perro será de una determinada raza\n",
    "    * Por defecto tendrá pelo \"Marrón\", a no ser que se diga lo contrario.\n",
    "    * Por defecto no tendrá dueño, a no ser que se diga lo contrario.\n",
    "    \n",
    "* Dispondrá también de un método llamado andar, que tiene un argumento de entrada (aumento_velocidad). Este valor se le sumará a la velocidad que ya llevaba el perro.\n",
    "* Necesita otro método (parar), donde pondremos la velocidad a 0.\n",
    "* Otro método llamado \"ladrar\", que tendrá un argumento de entrada, y la salida será el siguiente string: \"GUAU!\" + el argumento de entrada.\n",
    "\n",
    "\n",
    "Se pide:\n",
    "* Implementa la clase *Perro*\n",
    "* Crea un objeto de tipo *Perro*, sin dueño\n",
    "* Comprueba que están bien todos sus atributos\n",
    "* Prueba que ande, y comprueba su velocidad\n",
    "* Páralo\n",
    "* Documenta la clase *Perro*"
   ]
  },
  {
   "cell_type": "code",
   "execution_count": 2,
   "metadata": {
    "id": "DpEWvbwGSU40"
   },
   "outputs": [
    {
     "name": "stdout",
     "output_type": "stream",
     "text": [
      "colier negro False\n",
      "False\n",
      "negro\n",
      "colier\n",
      "el perro se para camina a esta velocidad 0 indica que se ha detenido\n",
      "el perro camina a esta velocidad 9\n"
     ]
    },
    {
     "data": {
      "text/plain": [
       "('GUAU', 'asi ladra mi perro')"
      ]
     },
     "execution_count": 2,
     "metadata": {},
     "output_type": "execute_result"
    }
   ],
   "source": [
    "class Perro:\n",
    "    Patas = 4\n",
    "    Orejas = 2\n",
    "    Ojos = 2\n",
    "    #Color = Marron\n",
    "    Velocidad = 0\n",
    "    Dueño = False\n",
    "    def __init__(self, raza, color, dueño):\n",
    "        self.raza = raza\n",
    "        self.color = color\n",
    "        self.dueño = dueño\n",
    "        print(raza, color, dueño)\n",
    "\n",
    "    def andar(self, velocidad, aumento):\n",
    "        veloz = 0\n",
    "        self.velocidad = velocidad\n",
    "        self.aumento = int(aumento)\n",
    "        veloz = self.velocidad + self.aumento\n",
    "        return veloz\n",
    "        print(veloz)\n",
    "\n",
    "    def parar(self, veloz):\n",
    "        self.veloz  = veloz\n",
    "        self.veloz = 0\n",
    "        return self.veloz\n",
    "        print(self.veloz)\n",
    "    def ladrar(self, entrada):\n",
    "        self.entrada = entrada\n",
    "        return('GUAU', self.entrada)\n",
    "pedri = Perro('colier', 'negro', False)\n",
    "\n",
    "print(pedri.dueño)\n",
    "print(pedri.color)\n",
    "print(pedri.raza)\n",
    "              \n",
    "\n",
    "            \n",
    "\n",
    "\n",
    "print('el perro se para camina a esta velocidad', pedri.parar(12), 'indica que se ha detenido')\n",
    "print('el perro camina a esta velocidad', pedri.andar(6, 3))\n",
    "pedri.ladrar('asi ladra mi perro')"
   ]
  },
  {
   "cell_type": "code",
   "execution_count": null,
   "metadata": {},
   "outputs": [],
   "source": []
  }
 ],
 "metadata": {
  "colab": {
   "provenance": []
  },
  "kernelspec": {
   "display_name": "Python 3 (ipykernel)",
   "language": "python",
   "name": "python3"
  },
  "language_info": {
   "codemirror_mode": {
    "name": "ipython",
    "version": 3
   },
   "file_extension": ".py",
   "mimetype": "text/x-python",
   "name": "python",
   "nbconvert_exporter": "python",
   "pygments_lexer": "ipython3",
   "version": "3.10.11"
  }
 },
 "nbformat": 4,
 "nbformat_minor": 4
}
